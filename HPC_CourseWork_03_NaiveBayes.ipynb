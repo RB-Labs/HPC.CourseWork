{
  "nbformat": 4,
  "nbformat_minor": 0,
  "metadata": {
    "colab": {
      "name": "HPC.CourseWork.03.NaiveBayes.ipynb",
      "provenance": [],
      "authorship_tag": "ABX9TyN+L34RE0CIPlPy0l7KIX86",
      "include_colab_link": true
    },
    "kernelspec": {
      "name": "python3",
      "display_name": "Python 3"
    },
    "language_info": {
      "name": "python"
    }
  },
  "cells": [
    {
      "cell_type": "markdown",
      "metadata": {
        "id": "view-in-github",
        "colab_type": "text"
      },
      "source": [
        "<a href=\"https://colab.research.google.com/github/RB-Labs/HPC.CourseWork/blob/main/HPC_CourseWork_03_NaiveBayes.ipynb\" target=\"_parent\"><img src=\"https://colab.research.google.com/assets/colab-badge.svg\" alt=\"Open In Colab\"/></a>"
      ]
    },
    {
      "cell_type": "code",
      "metadata": {
        "id": "g3qG_ugZiIVX"
      },
      "source": [
        "import os\n",
        "\n",
        "os.environ['APACHE_SPARK_DISTR_NAME'] = 'spark-3.0.2-bin-hadoop2.7'\n",
        "os.environ['APACHE_SPARK_URL'] = 'https://downloads.apache.org/spark/spark-3.0.2/spark-3.0.2-bin-hadoop2.7.tgz'\n",
        "os.environ['JAVA_HOME'] = '/usr/lib/jvm/java-8-openjdk-amd64'\n",
        "os.environ['SPARK_HOME'] = '/content/spark-3.0.2-bin-hadoop2.7'"
      ],
      "execution_count": 1,
      "outputs": []
    },
    {
      "cell_type": "code",
      "metadata": {
        "colab": {
          "resources": {
            "http://localhost:8080/nbextensions/google.colab/files.js": {
              "data": "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",
              "ok": true,
              "headers": [
                [
                  "content-type",
                  "application/javascript"
                ]
              ],
              "status": 200,
              "status_text": ""
            }
          },
          "base_uri": "https://localhost:8080/",
          "height": 73
        },
        "id": "7wFgwhn2pdO5",
        "outputId": "ce837bcc-3bf0-4c91-ca57-57a0703e1383"
      },
      "source": [
        "import os.path\n",
        "from google.colab import files\n",
        "if not os.path.isfile('kaggle.json'):\n",
        "    files.upload()"
      ],
      "execution_count": 2,
      "outputs": [
        {
          "output_type": "display_data",
          "data": {
            "text/html": [
              "\n",
              "     <input type=\"file\" id=\"files-a3e54e8c-b835-4391-877d-5cec2cf49f49\" name=\"files[]\" multiple disabled\n",
              "        style=\"border:none\" />\n",
              "     <output id=\"result-a3e54e8c-b835-4391-877d-5cec2cf49f49\">\n",
              "      Upload widget is only available when the cell has been executed in the\n",
              "      current browser session. Please rerun this cell to enable.\n",
              "      </output>\n",
              "      <script src=\"/nbextensions/google.colab/files.js\"></script> "
            ],
            "text/plain": [
              "<IPython.core.display.HTML object>"
            ]
          },
          "metadata": {
            "tags": []
          }
        },
        {
          "output_type": "stream",
          "text": [
            "Saving kaggle.json to kaggle.json\n"
          ],
          "name": "stdout"
        }
      ]
    },
    {
      "cell_type": "code",
      "metadata": {
        "colab": {
          "base_uri": "https://localhost:8080/"
        },
        "id": "M0PmEvZmpeOH",
        "outputId": "48851519-d547-41a3-c5ae-5bf96c531c3c"
      },
      "source": [
        "%%bash\n",
        "apt-get update > /dev/null\n",
        "apt-get purge -y openjdk-11* -qq > /dev/null && sudo apt-get autoremove -y -qq > /dev/null\n",
        "apt-get install -y openjdk-8-jdk-headless -qq > /dev/null\n",
        "pip install --upgrade -q pyspark==3.0.2 spark-nlp==3.0.3 findspark > /dev/null\n",
        "[ ! -d $APACHE_SPARK_DISTR_NAME ] \\\n",
        "   && wget -q $APACHE_SPARK_URL \\\n",
        "   && tar xf $APACHE_SPARK_DISTR_NAME.tgz \\\n",
        "   && rm -f $APACHE_SPARK_DISTR_NAME.tgz\n",
        "[ ! -d /root/.kaggle ] \\\n",
        "    && mkdir /root/.kaggle \\\n",
        "    && cp kaggle.json /root/.kaggle \\\n",
        "    && chmod 600 /root/.kaggle/kaggle.json\n",
        "[ ! -f lenta-ru-news.csv ] \\\n",
        "    && kaggle datasets download -d yutkin/corpus-of-russian-news-articles-from-lenta \\\n",
        "    && unzip -q corpus-of-russian-news-articles-from-lenta.zip \\\n",
        "    && rm -f corpus-of-russian-news-articles-from-lenta.zip"
      ],
      "execution_count": 3,
      "outputs": [
        {
          "output_type": "stream",
          "text": [
            "Downloading corpus-of-russian-news-articles-from-lenta.zip to /content\n",
            "\n"
          ],
          "name": "stdout"
        },
        {
          "output_type": "stream",
          "text": [
            "\r  0%|          | 0.00/584M [00:00<?, ?B/s]\r  1%|          | 5.00M/584M [00:00<00:15, 39.0MB/s]\r  2%|1         | 9.00M/584M [00:00<00:24, 25.0MB/s]\r  5%|4         | 28.0M/584M [00:00<00:17, 33.8MB/s]\r  7%|7         | 42.0M/584M [00:00<00:12, 43.8MB/s]\r 10%|9         | 57.0M/584M [00:00<00:10, 53.9MB/s]\r 13%|#2        | 75.0M/584M [00:00<00:07, 68.4MB/s]\r 16%|#5        | 93.0M/584M [00:00<00:06, 84.4MB/s]\r 18%|#8        | 107M/584M [00:01<00:05, 83.6MB/s] \r 22%|##1       | 126M/584M [00:01<00:04, 101MB/s] \r 25%|##4       | 145M/584M [00:01<00:03, 118MB/s]\r 28%|##7       | 161M/584M [00:01<00:04, 107MB/s]\r 31%|###       | 180M/584M [00:01<00:03, 124MB/s]\r 34%|###4      | 200M/584M [00:01<00:02, 140MB/s]\r 37%|###7      | 218M/584M [00:01<00:02, 150MB/s]\r 40%|####      | 235M/584M [00:02<00:02, 141MB/s]\r 43%|####3     | 251M/584M [00:02<00:02, 144MB/s]\r 46%|####5     | 266M/584M [00:02<00:02, 114MB/s]\r 48%|####7     | 279M/584M [00:02<00:02, 115MB/s]\r 50%|#####     | 292M/584M [00:02<00:02, 109MB/s]\r 53%|#####3    | 310M/584M [00:02<00:02, 124MB/s]\r 56%|#####6    | 328M/584M [00:02<00:01, 138MB/s]\r 59%|#####8    | 343M/584M [00:02<00:01, 139MB/s]\r 61%|######1   | 358M/584M [00:03<00:02, 88.0MB/s]\r 65%|######4   | 377M/584M [00:03<00:02, 105MB/s] \r 67%|######7   | 393M/584M [00:03<00:01, 104MB/s]\r 70%|######9   | 406M/584M [00:03<00:01, 93.7MB/s]\r 71%|#######1  | 417M/584M [00:03<00:01, 93.6MB/s]\r 74%|#######4  | 433M/584M [00:03<00:01, 107MB/s] \r 76%|#######6  | 445M/584M [00:04<00:01, 112MB/s]\r 78%|#######8  | 457M/584M [00:04<00:01, 106MB/s]\r 82%|########1 | 476M/584M [00:04<00:00, 122MB/s]\r 84%|########3 | 490M/584M [00:04<00:01, 73.6MB/s]\r 87%|########7 | 509M/584M [00:04<00:00, 90.3MB/s]\r 89%|########9 | 522M/584M [00:04<00:00, 85.5MB/s]\r 92%|#########2| 539M/584M [00:05<00:00, 101MB/s] \r 95%|#########5| 555M/584M [00:05<00:00, 113MB/s]\r 98%|#########7| 569M/584M [00:05<00:00, 49.7MB/s]\r100%|##########| 584M/584M [00:05<00:00, 104MB/s] \n"
          ],
          "name": "stderr"
        }
      ]
    },
    {
      "cell_type": "code",
      "metadata": {
        "id": "L5big88MphT3"
      },
      "source": [
        "from pyspark.ml import Pipeline\n",
        "from pyspark.sql import SparkSession\n",
        "from pyspark.ml.feature import HashingTF, IDF, StringIndexer, IndexToString\n",
        "from pyspark.ml.classification import NaiveBayes\n",
        "import pyspark.sql.functions as F\n",
        "from sparknlp.annotator import *\n",
        "from sparknlp.common import *\n",
        "from sparknlp.base import *\n",
        "import sparknlp"
      ],
      "execution_count": 4,
      "outputs": []
    },
    {
      "cell_type": "code",
      "metadata": {
        "id": "kVnWmgLypkOG"
      },
      "source": [
        "spark = sparknlp.start()"
      ],
      "execution_count": 5,
      "outputs": []
    },
    {
      "cell_type": "code",
      "metadata": {
        "colab": {
          "base_uri": "https://localhost:8080/"
        },
        "id": "hQUpVLHhplQm",
        "outputId": "1b28267c-5efe-406b-accb-a5cbd23e9b0f"
      },
      "source": [
        "main_df = spark.read.csv(\n",
        "    'lenta-ru-news.csv',\n",
        "    header=True,\n",
        "    multiLine=True,\n",
        "    escape=\"\\\"\")\n",
        "main_df.count()"
      ],
      "execution_count": 6,
      "outputs": [
        {
          "output_type": "execute_result",
          "data": {
            "text/plain": [
              "800975"
            ]
          },
          "metadata": {
            "tags": []
          },
          "execution_count": 6
        }
      ]
    },
    {
      "cell_type": "code",
      "metadata": {
        "id": "wS9daszvpmR2"
      },
      "source": [
        "df = main_df \\\n",
        "    .na.drop(subset=[\"topic\"]) \\\n",
        "    .select([\"text\", \"topic\"]) \\\n",
        "    .limit(200000) \\\n",
        "    .withColumn(\"text\", F.regexp_replace(F.col(\"text\"), \"[\\n\\r]\", \" \")) \\\n",
        "    .withColumn(\"text\", F.regexp_replace(F.col(\"text\"), \".Rambler Title \", \"\")) \\\n",
        "    .withColumn(\"text\", F.trim(F.col(\"text\")))"
      ],
      "execution_count": 7,
      "outputs": []
    },
    {
      "cell_type": "code",
      "metadata": {
        "colab": {
          "base_uri": "https://localhost:8080/"
        },
        "id": "5khXjm2xpnde",
        "outputId": "147ab0c4-583e-4ed9-ba9f-275831f2cda4"
      },
      "source": [
        "df.show()"
      ],
      "execution_count": 8,
      "outputs": [
        {
          "output_type": "stream",
          "text": [
            "+--------------------+----------+\n",
            "|                text|     topic|\n",
            "+--------------------+----------+\n",
            "|Бои у Сопоцкина и...|Библиотека|\n",
            "|Министерство наро...|Библиотека|\n",
            "|Штабс-капитан П. ...|Библиотека|\n",
            "|Фотограф-корреспо...|Библиотека|\n",
            "|Лица, приехавшие ...|Библиотека|\n",
            "|Как стало известн...|    Россия|\n",
            "|В зале игровых ав...|    Россия|\n",
            "|Япония приняла ре...|    Россия|\n",
            "|Британцы отмечают...|       Мир|\n",
            "|В понедельник дир...|    Россия|\n",
            "|С 1 сентября на в...|    Россия|\n",
            "|Указом президента...|    Россия|\n",
            "|Сегодня областной...|    Россия|\n",
            "|Бывший шеф Службы...|    Россия|\n",
            "|подземный толчок ...|       Мир|\n",
            "|Сегодня утром в р...|    Россия|\n",
            "|Намеченная на сег...|    Россия|\n",
            "|На состоявшейся с...|    Россия|\n",
            "|15 представителей...|       Мир|\n",
            "|На юге Киргизии, ...|       Мир|\n",
            "+--------------------+----------+\n",
            "only showing top 20 rows\n",
            "\n"
          ],
          "name": "stdout"
        }
      ]
    },
    {
      "cell_type": "code",
      "metadata": {
        "id": "f1b6QnYXpomH"
      },
      "source": [
        "df_count = df.groupBy(\"topic\").count()"
      ],
      "execution_count": 9,
      "outputs": []
    },
    {
      "cell_type": "code",
      "metadata": {
        "colab": {
          "base_uri": "https://localhost:8080/"
        },
        "id": "klgsiZTLpp2e",
        "outputId": "2e1eb6d3-8d62-435f-95c6-17d26f8237a5"
      },
      "source": [
        "df_count.count()"
      ],
      "execution_count": 10,
      "outputs": [
        {
          "output_type": "execute_result",
          "data": {
            "text/plain": [
              "12"
            ]
          },
          "metadata": {
            "tags": []
          },
          "execution_count": 10
        }
      ]
    },
    {
      "cell_type": "code",
      "metadata": {
        "colab": {
          "base_uri": "https://localhost:8080/"
        },
        "id": "U3YqM-aEpq63",
        "outputId": "1d1c7f96-0a8d-404f-9457-84b639bbe05e"
      },
      "source": [
        "df_count.show()"
      ],
      "execution_count": 11,
      "outputs": [
        {
          "output_type": "stream",
          "text": [
            "+-----------------+-----+\n",
            "|            topic|count|\n",
            "+-----------------+-----+\n",
            "|       Библиотека|    5|\n",
            "|           Россия|62927|\n",
            "|              Мир|52103|\n",
            "|        Экономика|20782|\n",
            "|   Интернет и СМИ|11591|\n",
            "|            Спорт|14682|\n",
            "|         Культура|12920|\n",
            "|         Из жизни| 6537|\n",
            "|Силовые структуры|    7|\n",
            "|  Наука и техника| 7872|\n",
            "|      Бывший СССР| 8881|\n",
            "|              Дом| 1693|\n",
            "+-----------------+-----+\n",
            "\n"
          ],
          "name": "stdout"
        }
      ]
    },
    {
      "cell_type": "code",
      "metadata": {
        "id": "Xx8gt0hEpr32"
      },
      "source": [
        "train_df, test_df = df.randomSplit([0.8, 0.2], seed = 1)"
      ],
      "execution_count": 12,
      "outputs": []
    },
    {
      "cell_type": "code",
      "metadata": {
        "id": "ZvkPYaFHptM-"
      },
      "source": [
        "document_assembler = DocumentAssembler()\\\n",
        "    .setInputCol(\"text\")\\\n",
        "    .setOutputCol(\"document\")"
      ],
      "execution_count": 13,
      "outputs": []
    },
    {
      "cell_type": "code",
      "metadata": {
        "id": "vIoxUYBTpuS2"
      },
      "source": [
        "sentence_detector = SentenceDetector()\\\n",
        "    .setInputCols(['document'])\\\n",
        "    .setOutputCol('sentence')"
      ],
      "execution_count": 14,
      "outputs": []
    },
    {
      "cell_type": "code",
      "metadata": {
        "id": "hNrJ1YeIpvUO"
      },
      "source": [
        "tokenizer = Tokenizer()\\\n",
        "    .setInputCols(['sentence'])\\\n",
        "    .setOutputCol('token')"
      ],
      "execution_count": 15,
      "outputs": []
    },
    {
      "cell_type": "code",
      "metadata": {
        "colab": {
          "base_uri": "https://localhost:8080/"
        },
        "id": "JdPjG0KDpwTO",
        "outputId": "eb938a0c-eea6-4a5b-a287-c75db5193251"
      },
      "source": [
        "stop_words_cleaner = StopWordsCleaner\\\n",
        "    .pretrained('stopwords_ru', 'ru')\\\n",
        "    .setInputCols([\"token\"]) \\\n",
        "    .setOutputCol(\"cleanTokens\") \\\n",
        "    .setCaseSensitive(False)"
      ],
      "execution_count": 16,
      "outputs": [
        {
          "output_type": "stream",
          "text": [
            "stopwords_ru download started this may take some time.\n",
            "Approximate size to download 2.9 KB\n",
            "[OK!]\n"
          ],
          "name": "stdout"
        }
      ]
    },
    {
      "cell_type": "code",
      "metadata": {
        "colab": {
          "base_uri": "https://localhost:8080/"
        },
        "id": "zqpS2MsNpxXe",
        "outputId": "08155487-0679-4b97-82cf-8f0f02d53195"
      },
      "source": [
        "lemmatizer = LemmatizerModel\\\n",
        "    .pretrained(\"lemma\", \"ru\") \\\n",
        "    .setInputCols([\"cleanTokens\"]) \\\n",
        "    .setOutputCol(\"lemma\")"
      ],
      "execution_count": 17,
      "outputs": [
        {
          "output_type": "stream",
          "text": [
            "lemma download started this may take some time.\n",
            "Approximate size to download 1.3 MB\n",
            "[OK!]\n"
          ],
          "name": "stdout"
        }
      ]
    },
    {
      "cell_type": "code",
      "metadata": {
        "id": "3bwp2Q-RpygP"
      },
      "source": [
        "finisher = Finisher() \\\n",
        "    .setInputCols([\"lemma\"]) \\\n",
        "    .setOutputCols([\"token_features\"]) \\\n",
        "    .setOutputAsArray(True) \\\n",
        "    .setCleanAnnotations(False)"
      ],
      "execution_count": 18,
      "outputs": []
    },
    {
      "cell_type": "code",
      "metadata": {
        "id": "Mhwdeexapzhn"
      },
      "source": [
        "hashing_TF = HashingTF(\n",
        "    inputCol=\"token_features\",\n",
        "    outputCol=\"raw_features\")"
      ],
      "execution_count": 19,
      "outputs": []
    },
    {
      "cell_type": "code",
      "metadata": {
        "id": "zmGoE7hRp06P"
      },
      "source": [
        "idf = IDF(\n",
        "    inputCol=\"raw_features\",\n",
        "    outputCol=\"features\",\n",
        "    minDocFreq=5)"
      ],
      "execution_count": 20,
      "outputs": []
    },
    {
      "cell_type": "code",
      "metadata": {
        "id": "rn9qKc76p16f"
      },
      "source": [
        "topic_indexer = StringIndexer(\n",
        "    inputCol=\"topic\",\n",
        "    outputCol=\"label\")"
      ],
      "execution_count": 21,
      "outputs": []
    },
    {
      "cell_type": "code",
      "metadata": {
        "id": "yZMCy2COp3JG"
      },
      "source": [
        "bayes_classificator = NaiveBayes(\n",
        "    smoothing=111)"
      ],
      "execution_count": 22,
      "outputs": []
    },
    {
      "cell_type": "code",
      "metadata": {
        "id": "ToTbz6Aip46_"
      },
      "source": [
        "topic_to_string_indexer = IndexToString(\n",
        "    inputCol=\"label\",\n",
        "    outputCol=\"article_class\")"
      ],
      "execution_count": 23,
      "outputs": []
    },
    {
      "cell_type": "code",
      "metadata": {
        "id": "Oiy-tzwAp6dv"
      },
      "source": [
        "pipeline = Pipeline(\n",
        "    stages=[\n",
        "        document_assembler,\n",
        "        sentence_detector,\n",
        "        tokenizer,\n",
        "        stop_words_cleaner,\n",
        "        lemmatizer,\n",
        "        finisher,\n",
        "        hashing_TF,\n",
        "        idf,\n",
        "        topic_indexer,\n",
        "        bayes_classificator,\n",
        "        topic_to_string_indexer])"
      ],
      "execution_count": 24,
      "outputs": []
    },
    {
      "cell_type": "code",
      "metadata": {
        "colab": {
          "base_uri": "https://localhost:8080/"
        },
        "id": "-KRXo2C_p77m",
        "outputId": "d979d26c-48af-41ec-c616-490af1a51254"
      },
      "source": [
        "%%time\n",
        "classification_model = pipeline.fit(train_df)"
      ],
      "execution_count": 25,
      "outputs": [
        {
          "output_type": "stream",
          "text": [
            "CPU times: user 4.93 s, sys: 596 ms, total: 5.52 s\n",
            "Wall time: 31min 45s\n"
          ],
          "name": "stdout"
        }
      ]
    },
    {
      "cell_type": "code",
      "metadata": {
        "id": "_ZIsRnyVp9A_"
      },
      "source": [
        "from sklearn.metrics import classification_report, accuracy_score"
      ],
      "execution_count": 26,
      "outputs": []
    },
    {
      "cell_type": "code",
      "metadata": {
        "colab": {
          "base_uri": "https://localhost:8080/"
        },
        "id": "a_6t74Fzp-MH",
        "outputId": "0d384608-998a-40e7-95eb-e8d7046c3374"
      },
      "source": [
        "%%time\n",
        "df_bayes = classification_model \\\n",
        "    .transform(test_df) \\\n",
        "    .select(\"topic\", \"label\", \"prediction\", \"text\")\n",
        "df_bayes_pandas = df_bayes.toPandas()"
      ],
      "execution_count": 32,
      "outputs": [
        {
          "output_type": "stream",
          "text": [
            "CPU times: user 2 s, sys: 348 ms, total: 2.35 s\n",
            "Wall time: 4min 29s\n"
          ],
          "name": "stdout"
        }
      ]
    },
    {
      "cell_type": "code",
      "metadata": {
        "colab": {
          "base_uri": "https://localhost:8080/"
        },
        "id": "NlriyooGp_Mf",
        "outputId": "6641a1ce-c070-4563-d27d-4bfa0886ae04"
      },
      "source": [
        "print(classification_report(df_bayes_pandas.label, df_bayes_pandas.prediction))"
      ],
      "execution_count": 28,
      "outputs": [
        {
          "output_type": "stream",
          "text": [
            "              precision    recall  f1-score   support\n",
            "\n",
            "         0.0       0.64      0.90      0.75     12569\n",
            "         1.0       0.65      0.84      0.73     10262\n",
            "         2.0       0.83      0.69      0.75      4103\n",
            "         3.0       0.99      0.86      0.92      3049\n",
            "         4.0       0.90      0.67      0.77      2649\n",
            "         5.0       0.88      0.30      0.44      2403\n",
            "         6.0       0.95      0.04      0.08      1739\n",
            "         7.0       0.96      0.23      0.37      1575\n",
            "         8.0       0.50      0.00      0.00      1327\n",
            "         9.0       0.00      0.00      0.00       353\n",
            "        10.0       0.00      0.00      0.00         1\n",
            "        11.0       0.00      0.00      0.00         3\n",
            "\n",
            "    accuracy                           0.71     40033\n",
            "   macro avg       0.61      0.38      0.40     40033\n",
            "weighted avg       0.74      0.71      0.67     40033\n",
            "\n"
          ],
          "name": "stdout"
        },
        {
          "output_type": "stream",
          "text": [
            "/usr/local/lib/python3.7/dist-packages/sklearn/metrics/_classification.py:1272: UndefinedMetricWarning: Precision and F-score are ill-defined and being set to 0.0 in labels with no predicted samples. Use `zero_division` parameter to control this behavior.\n",
            "  _warn_prf(average, modifier, msg_start, len(result))\n"
          ],
          "name": "stderr"
        }
      ]
    },
    {
      "cell_type": "code",
      "metadata": {
        "colab": {
          "base_uri": "https://localhost:8080/"
        },
        "id": "bPfCuQ9RqAjH",
        "outputId": "0e5bc907-70a2-4ed0-f30f-2ddeea7f7869"
      },
      "source": [
        "print(accuracy_score(df_bayes_pandas.label, df_bayes_pandas.prediction))"
      ],
      "execution_count": 29,
      "outputs": [
        {
          "output_type": "stream",
          "text": [
            "0.7058177003971723\n"
          ],
          "name": "stdout"
        }
      ]
    },
    {
      "cell_type": "code",
      "metadata": {
        "colab": {
          "base_uri": "https://localhost:8080/"
        },
        "id": "lIlGid_vqBxm",
        "outputId": "d9c077d9-b47a-4fde-fbf3-a9aa74ce15de"
      },
      "source": [
        "%%time\n",
        "validation_df = df \\\n",
        "    .sample(withReplacement=False, fraction=0.5, seed=1) \\\n",
        "    .limit(20)\n",
        "validation_df.show(truncate=40)"
      ],
      "execution_count": 30,
      "outputs": [
        {
          "output_type": "stream",
          "text": [
            "+----------------------------------------+----------+\n",
            "|                                    text|     topic|\n",
            "+----------------------------------------+----------+\n",
            "|Штабс-капитан П. Н. Нестеров на днях,...|Библиотека|\n",
            "|Фотограф-корреспондент Daily Mirror р...|Библиотека|\n",
            "|В зале игровых автоматов в третьем яр...|    Россия|\n",
            "|Япония приняла решение разморозить кр...|    Россия|\n",
            "|Британцы отмечают сегодня скорбную да...|       Мир|\n",
            "|Указом президента России Бориса Ельци...|    Россия|\n",
            "|Сегодня областной центр Сахалина и Ку...|    Россия|\n",
            "|15 представителей национал-большевист...|       Мир|\n",
            "|Россия крайне негативно оценивает суд...|       Мир|\n",
            "|По сведениям миссии ООН, передаваемым...|       Мир|\n",
            "|Соединенные Штаты заплатили Китаю 4,5...|       Мир|\n",
            "|\"Женщины России\" , возмущенные отсутс...|    Россия|\n",
            "|Скандал по поводу \"отмывания денег ру...|       Мир|\n",
            "|Следствие по делу \"Bank of  New York\"...|       Мир|\n",
            "|Трое заложников освобождены минувшей ...|       Мир|\n",
            "|МИД РФ в распространенном всреду заяв...|       Мир|\n",
            "|Одинсотрудник абхазской таможни сегод...|       Мир|\n",
            "|Компания Apple объявила о выпуске так...|       Мир|\n",
            "|Всего в результате взрыва в торговом ...|    Россия|\n",
            "|Вооруженные отряды из проправительств...|       Мир|\n",
            "+----------------------------------------+----------+\n",
            "\n",
            "CPU times: user 58.4 ms, sys: 7.2 ms, total: 65.6 ms\n",
            "Wall time: 11 s\n"
          ],
          "name": "stdout"
        }
      ]
    },
    {
      "cell_type": "code",
      "metadata": {
        "colab": {
          "base_uri": "https://localhost:8080/"
        },
        "id": "MhmMRNyuqDOZ",
        "outputId": "9249cd6f-4d0a-471e-9e1f-b9c3feb96b1d"
      },
      "source": [
        "%%time\n",
        "validation_df_pred = classification_model \\\n",
        "    .transform(validation_df) \\\n",
        "    .select(\"topic\", \"label\", \"prediction\", \"text\")\n",
        "validation_df_pred.show(truncate=23)"
      ],
      "execution_count": 31,
      "outputs": [
        {
          "output_type": "stream",
          "text": [
            "+----------+-----+----------+-----------------------+\n",
            "|     topic|label|prediction|                   text|\n",
            "+----------+-----+----------+-----------------------+\n",
            "|Библиотека| 11.0|       1.0|Штабс-капитан П. Н. ...|\n",
            "|Библиотека| 11.0|       1.0|Фотограф-корреспонде...|\n",
            "|    Россия|  0.0|       0.0|В зале игровых автом...|\n",
            "|    Россия|  0.0|       2.0|Япония приняла решен...|\n",
            "|       Мир|  1.0|       1.0|Британцы отмечают се...|\n",
            "|    Россия|  0.0|       0.0|Указом президента Ро...|\n",
            "|    Россия|  0.0|       0.0|Сегодня областной це...|\n",
            "|       Мир|  1.0|       0.0|15 представителей на...|\n",
            "|       Мир|  1.0|       1.0|Россия крайне негати...|\n",
            "|       Мир|  1.0|       1.0|По сведениям миссии ...|\n",
            "|       Мир|  1.0|       1.0|Соединенные Штаты за...|\n",
            "|    Россия|  0.0|       0.0|\"Женщины России\" , в...|\n",
            "|       Мир|  1.0|       0.0|Скандал по поводу \"о...|\n",
            "|       Мир|  1.0|       1.0|Следствие по делу \"B...|\n",
            "|       Мир|  1.0|       1.0|Трое заложников осво...|\n",
            "|       Мир|  1.0|       1.0|МИД РФ в распростран...|\n",
            "|       Мир|  1.0|       0.0|Одинсотрудник абхазс...|\n",
            "|       Мир|  1.0|       5.0|Компания Apple объяв...|\n",
            "|    Россия|  0.0|       0.0|Всего в результате в...|\n",
            "|       Мир|  1.0|       1.0|Вооруженные отряды и...|\n",
            "+----------+-----+----------+-----------------------+\n",
            "\n",
            "CPU times: user 214 ms, sys: 28.5 ms, total: 243 ms\n",
            "Wall time: 11.5 s\n"
          ],
          "name": "stdout"
        }
      ]
    },
    {
      "cell_type": "code",
      "metadata": {
        "id": "FVfsCdEdqET-"
      },
      "source": [
        ""
      ],
      "execution_count": null,
      "outputs": []
    }
  ]
}